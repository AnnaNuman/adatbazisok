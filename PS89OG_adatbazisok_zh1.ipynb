{
    "metadata": {
        "kernelspec": {
            "name": "SQL",
            "display_name": "SQL",
            "language": "sql"
        },
        "language_info": {
            "name": "sql",
            "version": ""
        }
    },
    "nbformat_minor": 2,
    "nbformat": 4,
    "cells": [
        {
            "cell_type": "code",
            "source": [
                "--1.feladat\r\n",
                "SELECT SZOBA_FK,\r\n",
                "        COUNT(*) AS \"foglalások száma\"\r\n",
                "FROM FOGLALAS\r\n",
                "WHERE FELNOTT_SZAM > GYERMEK_SZAM\r\n",
                "GROUP BY SZOBA_FK\r\n",
                "HAVING COUNT(*) >=2\r\n",
                "ORDER BY \"foglalások száma\";"
            ],
            "metadata": {
                "azdata_cell_guid": "dbad7d91-2746-444d-8899-3b55dc2f0422",
                "language": "sql"
            },
            "outputs": [
                {
                    "output_type": "display_data",
                    "data": {
                        "text/html": "(165 rows affected)"
                    },
                    "metadata": {}
                },
                {
                    "output_type": "display_data",
                    "data": {
                        "text/html": "Total execution time: 00:00:00.011"
                    },
                    "metadata": {}
                },
                {
                    "output_type": "execute_result",
                    "metadata": {},
                    "execution_count": 24,
                    "data": {
                        "application/vnd.dataresource+json": {
                            "schema": {
                                "fields": [
                                    {
                                        "name": "SZOBA_FK"
                                    },
                                    {
                                        "name": "foglalások száma"
                                    }
                                ]
                            },
                            "data": [
                                {
                                    "SZOBA_FK": "2",
                                    "foglalások száma": "2"
                                },
                                {
                                    "SZOBA_FK": "5",
                                    "foglalások száma": "2"
                                },
                                {
                                    "SZOBA_FK": "17",
                                    "foglalások száma": "2"
                                },
                                {
                                    "SZOBA_FK": "22",
                                    "foglalások száma": "2"
                                },
                                {
                                    "SZOBA_FK": "30",
                                    "foglalások száma": "2"
                                },
                                {
                                    "SZOBA_FK": "37",
                                    "foglalások száma": "2"
                                },
                                {
                                    "SZOBA_FK": "47",
                                    "foglalások száma": "2"
                                },
                                {
                                    "SZOBA_FK": "71",
                                    "foglalások száma": "2"
                                },
                                {
                                    "SZOBA_FK": "72",
                                    "foglalások száma": "2"
                                },
                                {
                                    "SZOBA_FK": "75",
                                    "foglalások száma": "2"
                                },
                                {
                                    "SZOBA_FK": "76",
                                    "foglalások száma": "2"
                                },
                                {
                                    "SZOBA_FK": "67",
                                    "foglalások száma": "2"
                                },
                                {
                                    "SZOBA_FK": "69",
                                    "foglalások száma": "2"
                                },
                                {
                                    "SZOBA_FK": "85",
                                    "foglalások száma": "2"
                                },
                                {
                                    "SZOBA_FK": "91",
                                    "foglalások száma": "2"
                                },
                                {
                                    "SZOBA_FK": "100",
                                    "foglalások száma": "2"
                                },
                                {
                                    "SZOBA_FK": "109",
                                    "foglalások száma": "2"
                                },
                                {
                                    "SZOBA_FK": "113",
                                    "foglalások száma": "2"
                                },
                                {
                                    "SZOBA_FK": "118",
                                    "foglalások száma": "2"
                                },
                                {
                                    "SZOBA_FK": "120",
                                    "foglalások száma": "2"
                                },
                                {
                                    "SZOBA_FK": "136",
                                    "foglalások száma": "2"
                                },
                                {
                                    "SZOBA_FK": "137",
                                    "foglalások száma": "2"
                                },
                                {
                                    "SZOBA_FK": "144",
                                    "foglalások száma": "2"
                                },
                                {
                                    "SZOBA_FK": "145",
                                    "foglalások száma": "2"
                                },
                                {
                                    "SZOBA_FK": "151",
                                    "foglalások száma": "2"
                                },
                                {
                                    "SZOBA_FK": "156",
                                    "foglalások száma": "2"
                                },
                                {
                                    "SZOBA_FK": "157",
                                    "foglalások száma": "2"
                                },
                                {
                                    "SZOBA_FK": "160",
                                    "foglalások száma": "2"
                                },
                                {
                                    "SZOBA_FK": "162",
                                    "foglalások száma": "2"
                                },
                                {
                                    "SZOBA_FK": "167",
                                    "foglalások száma": "2"
                                },
                                {
                                    "SZOBA_FK": "176",
                                    "foglalások száma": "2"
                                },
                                {
                                    "SZOBA_FK": "179",
                                    "foglalások száma": "2"
                                },
                                {
                                    "SZOBA_FK": "188",
                                    "foglalások száma": "2"
                                },
                                {
                                    "SZOBA_FK": "193",
                                    "foglalások száma": "2"
                                },
                                {
                                    "SZOBA_FK": "196",
                                    "foglalások száma": "2"
                                },
                                {
                                    "SZOBA_FK": "191",
                                    "foglalások száma": "3"
                                },
                                {
                                    "SZOBA_FK": "183",
                                    "foglalások száma": "3"
                                },
                                {
                                    "SZOBA_FK": "173",
                                    "foglalások száma": "3"
                                },
                                {
                                    "SZOBA_FK": "166",
                                    "foglalások száma": "3"
                                },
                                {
                                    "SZOBA_FK": "175",
                                    "foglalások száma": "3"
                                },
                                {
                                    "SZOBA_FK": "169",
                                    "foglalások száma": "3"
                                },
                                {
                                    "SZOBA_FK": "170",
                                    "foglalások száma": "3"
                                },
                                {
                                    "SZOBA_FK": "161",
                                    "foglalások száma": "3"
                                },
                                {
                                    "SZOBA_FK": "158",
                                    "foglalások száma": "3"
                                },
                                {
                                    "SZOBA_FK": "152",
                                    "foglalások száma": "3"
                                },
                                {
                                    "SZOBA_FK": "154",
                                    "foglalások száma": "3"
                                },
                                {
                                    "SZOBA_FK": "155",
                                    "foglalások száma": "3"
                                },
                                {
                                    "SZOBA_FK": "146",
                                    "foglalások száma": "3"
                                },
                                {
                                    "SZOBA_FK": "135",
                                    "foglalások száma": "3"
                                },
                                {
                                    "SZOBA_FK": "122",
                                    "foglalások száma": "3"
                                },
                                {
                                    "SZOBA_FK": "129",
                                    "foglalások száma": "3"
                                },
                                {
                                    "SZOBA_FK": "104",
                                    "foglalások száma": "3"
                                },
                                {
                                    "SZOBA_FK": "90",
                                    "foglalások száma": "3"
                                },
                                {
                                    "SZOBA_FK": "66",
                                    "foglalások száma": "3"
                                },
                                {
                                    "SZOBA_FK": "84",
                                    "foglalások száma": "3"
                                },
                                {
                                    "SZOBA_FK": "93",
                                    "foglalások száma": "3"
                                },
                                {
                                    "SZOBA_FK": "95",
                                    "foglalások száma": "3"
                                },
                                {
                                    "SZOBA_FK": "81",
                                    "foglalások száma": "3"
                                },
                                {
                                    "SZOBA_FK": "77",
                                    "foglalások száma": "3"
                                },
                                {
                                    "SZOBA_FK": "78",
                                    "foglalások száma": "3"
                                },
                                {
                                    "SZOBA_FK": "50",
                                    "foglalások száma": "3"
                                },
                                {
                                    "SZOBA_FK": "51",
                                    "foglalások száma": "3"
                                },
                                {
                                    "SZOBA_FK": "46",
                                    "foglalások száma": "3"
                                },
                                {
                                    "SZOBA_FK": "55",
                                    "foglalások száma": "3"
                                },
                                {
                                    "SZOBA_FK": "57",
                                    "foglalások száma": "3"
                                },
                                {
                                    "SZOBA_FK": "62",
                                    "foglalások száma": "3"
                                },
                                {
                                    "SZOBA_FK": "63",
                                    "foglalások száma": "3"
                                },
                                {
                                    "SZOBA_FK": "29",
                                    "foglalások száma": "3"
                                },
                                {
                                    "SZOBA_FK": "40",
                                    "foglalások száma": "3"
                                },
                                {
                                    "SZOBA_FK": "33",
                                    "foglalások száma": "3"
                                },
                                {
                                    "SZOBA_FK": "34",
                                    "foglalások száma": "3"
                                },
                                {
                                    "SZOBA_FK": "23",
                                    "foglalások száma": "3"
                                },
                                {
                                    "SZOBA_FK": "24",
                                    "foglalások száma": "3"
                                },
                                {
                                    "SZOBA_FK": "18",
                                    "foglalások száma": "3"
                                },
                                {
                                    "SZOBA_FK": "14",
                                    "foglalások száma": "3"
                                },
                                {
                                    "SZOBA_FK": "3",
                                    "foglalások száma": "3"
                                },
                                {
                                    "SZOBA_FK": "9",
                                    "foglalások száma": "4"
                                },
                                {
                                    "SZOBA_FK": "10",
                                    "foglalások száma": "4"
                                },
                                {
                                    "SZOBA_FK": "11",
                                    "foglalások száma": "4"
                                },
                                {
                                    "SZOBA_FK": "15",
                                    "foglalások száma": "4"
                                },
                                {
                                    "SZOBA_FK": "19",
                                    "foglalások száma": "4"
                                },
                                {
                                    "SZOBA_FK": "36",
                                    "foglalások száma": "4"
                                },
                                {
                                    "SZOBA_FK": "39",
                                    "foglalások száma": "4"
                                },
                                {
                                    "SZOBA_FK": "13",
                                    "foglalások száma": "4"
                                },
                                {
                                    "SZOBA_FK": "59",
                                    "foglalások száma": "4"
                                },
                                {
                                    "SZOBA_FK": "61",
                                    "foglalások száma": "4"
                                },
                                {
                                    "SZOBA_FK": "54",
                                    "foglalások száma": "4"
                                },
                                {
                                    "SZOBA_FK": "45",
                                    "foglalások száma": "4"
                                },
                                {
                                    "SZOBA_FK": "43",
                                    "foglalások száma": "4"
                                },
                                {
                                    "SZOBA_FK": "79",
                                    "foglalások száma": "4"
                                },
                                {
                                    "SZOBA_FK": "73",
                                    "foglalások száma": "4"
                                },
                                {
                                    "SZOBA_FK": "86",
                                    "foglalások száma": "4"
                                },
                                {
                                    "SZOBA_FK": "98",
                                    "foglalások száma": "4"
                                },
                                {
                                    "SZOBA_FK": "99",
                                    "foglalások száma": "4"
                                },
                                {
                                    "SZOBA_FK": "106",
                                    "foglalások száma": "4"
                                },
                                {
                                    "SZOBA_FK": "107",
                                    "foglalások száma": "4"
                                },
                                {
                                    "SZOBA_FK": "124",
                                    "foglalások száma": "4"
                                },
                                {
                                    "SZOBA_FK": "126",
                                    "foglalások száma": "4"
                                },
                                {
                                    "SZOBA_FK": "119",
                                    "foglalások száma": "4"
                                },
                                {
                                    "SZOBA_FK": "112",
                                    "foglalások száma": "4"
                                },
                                {
                                    "SZOBA_FK": "117",
                                    "foglalások száma": "4"
                                },
                                {
                                    "SZOBA_FK": "141",
                                    "foglalások száma": "4"
                                },
                                {
                                    "SZOBA_FK": "131",
                                    "foglalások száma": "4"
                                },
                                {
                                    "SZOBA_FK": "132",
                                    "foglalások száma": "4"
                                },
                                {
                                    "SZOBA_FK": "133",
                                    "foglalások száma": "4"
                                },
                                {
                                    "SZOBA_FK": "134",
                                    "foglalások száma": "4"
                                },
                                {
                                    "SZOBA_FK": "153",
                                    "foglalások száma": "4"
                                },
                                {
                                    "SZOBA_FK": "164",
                                    "foglalások száma": "4"
                                },
                                {
                                    "SZOBA_FK": "174",
                                    "foglalások száma": "4"
                                },
                                {
                                    "SZOBA_FK": "184",
                                    "foglalások száma": "4"
                                },
                                {
                                    "SZOBA_FK": "190",
                                    "foglalások száma": "5"
                                },
                                {
                                    "SZOBA_FK": "195",
                                    "foglalások száma": "5"
                                },
                                {
                                    "SZOBA_FK": "181",
                                    "foglalások száma": "5"
                                },
                                {
                                    "SZOBA_FK": "165",
                                    "foglalások száma": "5"
                                },
                                {
                                    "SZOBA_FK": "163",
                                    "foglalások száma": "5"
                                },
                                {
                                    "SZOBA_FK": "171",
                                    "foglalások száma": "5"
                                },
                                {
                                    "SZOBA_FK": "138",
                                    "foglalások száma": "5"
                                },
                                {
                                    "SZOBA_FK": "143",
                                    "foglalások száma": "5"
                                },
                                {
                                    "SZOBA_FK": "140",
                                    "foglalások száma": "5"
                                },
                                {
                                    "SZOBA_FK": "148",
                                    "foglalások száma": "5"
                                },
                                {
                                    "SZOBA_FK": "149",
                                    "foglalások száma": "5"
                                },
                                {
                                    "SZOBA_FK": "115",
                                    "foglalások száma": "5"
                                },
                                {
                                    "SZOBA_FK": "110",
                                    "foglalások száma": "5"
                                },
                                {
                                    "SZOBA_FK": "127",
                                    "foglalások száma": "5"
                                },
                                {
                                    "SZOBA_FK": "130",
                                    "foglalások száma": "5"
                                },
                                {
                                    "SZOBA_FK": "123",
                                    "foglalások száma": "5"
                                },
                                {
                                    "SZOBA_FK": "121",
                                    "foglalások száma": "5"
                                },
                                {
                                    "SZOBA_FK": "97",
                                    "foglalások száma": "5"
                                },
                                {
                                    "SZOBA_FK": "92",
                                    "foglalások száma": "5"
                                },
                                {
                                    "SZOBA_FK": "87",
                                    "foglalások száma": "5"
                                },
                                {
                                    "SZOBA_FK": "88",
                                    "foglalások száma": "5"
                                },
                                {
                                    "SZOBA_FK": "82",
                                    "foglalások száma": "5"
                                },
                                {
                                    "SZOBA_FK": "83",
                                    "foglalások száma": "5"
                                },
                                {
                                    "SZOBA_FK": "80",
                                    "foglalások száma": "5"
                                },
                                {
                                    "SZOBA_FK": "52",
                                    "foglalások száma": "5"
                                },
                                {
                                    "SZOBA_FK": "49",
                                    "foglalások száma": "5"
                                },
                                {
                                    "SZOBA_FK": "64",
                                    "foglalások száma": "5"
                                },
                                {
                                    "SZOBA_FK": "38",
                                    "foglalások száma": "5"
                                },
                                {
                                    "SZOBA_FK": "42",
                                    "foglalások száma": "5"
                                },
                                {
                                    "SZOBA_FK": "27",
                                    "foglalások száma": "5"
                                },
                                {
                                    "SZOBA_FK": "28",
                                    "foglalások száma": "5"
                                },
                                {
                                    "SZOBA_FK": "20",
                                    "foglalások száma": "5"
                                },
                                {
                                    "SZOBA_FK": "8",
                                    "foglalások száma": "5"
                                },
                                {
                                    "SZOBA_FK": "4",
                                    "foglalások száma": "5"
                                },
                                {
                                    "SZOBA_FK": "6",
                                    "foglalások száma": "5"
                                },
                                {
                                    "SZOBA_FK": "7",
                                    "foglalások száma": "6"
                                },
                                {
                                    "SZOBA_FK": "35",
                                    "foglalások száma": "6"
                                },
                                {
                                    "SZOBA_FK": "48",
                                    "foglalások száma": "6"
                                },
                                {
                                    "SZOBA_FK": "44",
                                    "foglalások száma": "6"
                                },
                                {
                                    "SZOBA_FK": "96",
                                    "foglalások száma": "6"
                                },
                                {
                                    "SZOBA_FK": "94",
                                    "foglalások száma": "6"
                                },
                                {
                                    "SZOBA_FK": "150",
                                    "foglalások száma": "6"
                                },
                                {
                                    "SZOBA_FK": "139",
                                    "foglalások száma": "6"
                                },
                                {
                                    "SZOBA_FK": "172",
                                    "foglalások száma": "6"
                                },
                                {
                                    "SZOBA_FK": "187",
                                    "foglalások száma": "6"
                                },
                                {
                                    "SZOBA_FK": "197",
                                    "foglalások száma": "6"
                                },
                                {
                                    "SZOBA_FK": "198",
                                    "foglalások száma": "7"
                                },
                                {
                                    "SZOBA_FK": "12",
                                    "foglalások száma": "7"
                                },
                                {
                                    "SZOBA_FK": "1",
                                    "foglalások száma": "7"
                                },
                                {
                                    "SZOBA_FK": "58",
                                    "foglalások száma": "8"
                                },
                                {
                                    "SZOBA_FK": "74",
                                    "foglalások száma": "8"
                                },
                                {
                                    "SZOBA_FK": "70",
                                    "foglalások száma": "8"
                                },
                                {
                                    "SZOBA_FK": "89",
                                    "foglalások száma": "8"
                                },
                                {
                                    "SZOBA_FK": "185",
                                    "foglalások száma": "10"
                                },
                                {
                                    "SZOBA_FK": "182",
                                    "foglalások száma": "11"
                                }
                            ]
                        },
                        "text/html": [
                            "<table>",
                            "<tr><th>SZOBA_FK</th><th>foglalások száma</th></tr>",
                            "<tr><td>2</td><td>2</td></tr>",
                            "<tr><td>5</td><td>2</td></tr>",
                            "<tr><td>17</td><td>2</td></tr>",
                            "<tr><td>22</td><td>2</td></tr>",
                            "<tr><td>30</td><td>2</td></tr>",
                            "<tr><td>37</td><td>2</td></tr>",
                            "<tr><td>47</td><td>2</td></tr>",
                            "<tr><td>71</td><td>2</td></tr>",
                            "<tr><td>72</td><td>2</td></tr>",
                            "<tr><td>75</td><td>2</td></tr>",
                            "<tr><td>76</td><td>2</td></tr>",
                            "<tr><td>67</td><td>2</td></tr>",
                            "<tr><td>69</td><td>2</td></tr>",
                            "<tr><td>85</td><td>2</td></tr>",
                            "<tr><td>91</td><td>2</td></tr>",
                            "<tr><td>100</td><td>2</td></tr>",
                            "<tr><td>109</td><td>2</td></tr>",
                            "<tr><td>113</td><td>2</td></tr>",
                            "<tr><td>118</td><td>2</td></tr>",
                            "<tr><td>120</td><td>2</td></tr>",
                            "<tr><td>136</td><td>2</td></tr>",
                            "<tr><td>137</td><td>2</td></tr>",
                            "<tr><td>144</td><td>2</td></tr>",
                            "<tr><td>145</td><td>2</td></tr>",
                            "<tr><td>151</td><td>2</td></tr>",
                            "<tr><td>156</td><td>2</td></tr>",
                            "<tr><td>157</td><td>2</td></tr>",
                            "<tr><td>160</td><td>2</td></tr>",
                            "<tr><td>162</td><td>2</td></tr>",
                            "<tr><td>167</td><td>2</td></tr>",
                            "<tr><td>176</td><td>2</td></tr>",
                            "<tr><td>179</td><td>2</td></tr>",
                            "<tr><td>188</td><td>2</td></tr>",
                            "<tr><td>193</td><td>2</td></tr>",
                            "<tr><td>196</td><td>2</td></tr>",
                            "<tr><td>191</td><td>3</td></tr>",
                            "<tr><td>183</td><td>3</td></tr>",
                            "<tr><td>173</td><td>3</td></tr>",
                            "<tr><td>166</td><td>3</td></tr>",
                            "<tr><td>175</td><td>3</td></tr>",
                            "<tr><td>169</td><td>3</td></tr>",
                            "<tr><td>170</td><td>3</td></tr>",
                            "<tr><td>161</td><td>3</td></tr>",
                            "<tr><td>158</td><td>3</td></tr>",
                            "<tr><td>152</td><td>3</td></tr>",
                            "<tr><td>154</td><td>3</td></tr>",
                            "<tr><td>155</td><td>3</td></tr>",
                            "<tr><td>146</td><td>3</td></tr>",
                            "<tr><td>135</td><td>3</td></tr>",
                            "<tr><td>122</td><td>3</td></tr>",
                            "<tr><td>129</td><td>3</td></tr>",
                            "<tr><td>104</td><td>3</td></tr>",
                            "<tr><td>90</td><td>3</td></tr>",
                            "<tr><td>66</td><td>3</td></tr>",
                            "<tr><td>84</td><td>3</td></tr>",
                            "<tr><td>93</td><td>3</td></tr>",
                            "<tr><td>95</td><td>3</td></tr>",
                            "<tr><td>81</td><td>3</td></tr>",
                            "<tr><td>77</td><td>3</td></tr>",
                            "<tr><td>78</td><td>3</td></tr>",
                            "<tr><td>50</td><td>3</td></tr>",
                            "<tr><td>51</td><td>3</td></tr>",
                            "<tr><td>46</td><td>3</td></tr>",
                            "<tr><td>55</td><td>3</td></tr>",
                            "<tr><td>57</td><td>3</td></tr>",
                            "<tr><td>62</td><td>3</td></tr>",
                            "<tr><td>63</td><td>3</td></tr>",
                            "<tr><td>29</td><td>3</td></tr>",
                            "<tr><td>40</td><td>3</td></tr>",
                            "<tr><td>33</td><td>3</td></tr>",
                            "<tr><td>34</td><td>3</td></tr>",
                            "<tr><td>23</td><td>3</td></tr>",
                            "<tr><td>24</td><td>3</td></tr>",
                            "<tr><td>18</td><td>3</td></tr>",
                            "<tr><td>14</td><td>3</td></tr>",
                            "<tr><td>3</td><td>3</td></tr>",
                            "<tr><td>9</td><td>4</td></tr>",
                            "<tr><td>10</td><td>4</td></tr>",
                            "<tr><td>11</td><td>4</td></tr>",
                            "<tr><td>15</td><td>4</td></tr>",
                            "<tr><td>19</td><td>4</td></tr>",
                            "<tr><td>36</td><td>4</td></tr>",
                            "<tr><td>39</td><td>4</td></tr>",
                            "<tr><td>13</td><td>4</td></tr>",
                            "<tr><td>59</td><td>4</td></tr>",
                            "<tr><td>61</td><td>4</td></tr>",
                            "<tr><td>54</td><td>4</td></tr>",
                            "<tr><td>45</td><td>4</td></tr>",
                            "<tr><td>43</td><td>4</td></tr>",
                            "<tr><td>79</td><td>4</td></tr>",
                            "<tr><td>73</td><td>4</td></tr>",
                            "<tr><td>86</td><td>4</td></tr>",
                            "<tr><td>98</td><td>4</td></tr>",
                            "<tr><td>99</td><td>4</td></tr>",
                            "<tr><td>106</td><td>4</td></tr>",
                            "<tr><td>107</td><td>4</td></tr>",
                            "<tr><td>124</td><td>4</td></tr>",
                            "<tr><td>126</td><td>4</td></tr>",
                            "<tr><td>119</td><td>4</td></tr>",
                            "<tr><td>112</td><td>4</td></tr>",
                            "<tr><td>117</td><td>4</td></tr>",
                            "<tr><td>141</td><td>4</td></tr>",
                            "<tr><td>131</td><td>4</td></tr>",
                            "<tr><td>132</td><td>4</td></tr>",
                            "<tr><td>133</td><td>4</td></tr>",
                            "<tr><td>134</td><td>4</td></tr>",
                            "<tr><td>153</td><td>4</td></tr>",
                            "<tr><td>164</td><td>4</td></tr>",
                            "<tr><td>174</td><td>4</td></tr>",
                            "<tr><td>184</td><td>4</td></tr>",
                            "<tr><td>190</td><td>5</td></tr>",
                            "<tr><td>195</td><td>5</td></tr>",
                            "<tr><td>181</td><td>5</td></tr>",
                            "<tr><td>165</td><td>5</td></tr>",
                            "<tr><td>163</td><td>5</td></tr>",
                            "<tr><td>171</td><td>5</td></tr>",
                            "<tr><td>138</td><td>5</td></tr>",
                            "<tr><td>143</td><td>5</td></tr>",
                            "<tr><td>140</td><td>5</td></tr>",
                            "<tr><td>148</td><td>5</td></tr>",
                            "<tr><td>149</td><td>5</td></tr>",
                            "<tr><td>115</td><td>5</td></tr>",
                            "<tr><td>110</td><td>5</td></tr>",
                            "<tr><td>127</td><td>5</td></tr>",
                            "<tr><td>130</td><td>5</td></tr>",
                            "<tr><td>123</td><td>5</td></tr>",
                            "<tr><td>121</td><td>5</td></tr>",
                            "<tr><td>97</td><td>5</td></tr>",
                            "<tr><td>92</td><td>5</td></tr>",
                            "<tr><td>87</td><td>5</td></tr>",
                            "<tr><td>88</td><td>5</td></tr>",
                            "<tr><td>82</td><td>5</td></tr>",
                            "<tr><td>83</td><td>5</td></tr>",
                            "<tr><td>80</td><td>5</td></tr>",
                            "<tr><td>52</td><td>5</td></tr>",
                            "<tr><td>49</td><td>5</td></tr>",
                            "<tr><td>64</td><td>5</td></tr>",
                            "<tr><td>38</td><td>5</td></tr>",
                            "<tr><td>42</td><td>5</td></tr>",
                            "<tr><td>27</td><td>5</td></tr>",
                            "<tr><td>28</td><td>5</td></tr>",
                            "<tr><td>20</td><td>5</td></tr>",
                            "<tr><td>8</td><td>5</td></tr>",
                            "<tr><td>4</td><td>5</td></tr>",
                            "<tr><td>6</td><td>5</td></tr>",
                            "<tr><td>7</td><td>6</td></tr>",
                            "<tr><td>35</td><td>6</td></tr>",
                            "<tr><td>48</td><td>6</td></tr>",
                            "<tr><td>44</td><td>6</td></tr>",
                            "<tr><td>96</td><td>6</td></tr>",
                            "<tr><td>94</td><td>6</td></tr>",
                            "<tr><td>150</td><td>6</td></tr>",
                            "<tr><td>139</td><td>6</td></tr>",
                            "<tr><td>172</td><td>6</td></tr>",
                            "<tr><td>187</td><td>6</td></tr>",
                            "<tr><td>197</td><td>6</td></tr>",
                            "<tr><td>198</td><td>7</td></tr>",
                            "<tr><td>12</td><td>7</td></tr>",
                            "<tr><td>1</td><td>7</td></tr>",
                            "<tr><td>58</td><td>8</td></tr>",
                            "<tr><td>74</td><td>8</td></tr>",
                            "<tr><td>70</td><td>8</td></tr>",
                            "<tr><td>89</td><td>8</td></tr>",
                            "<tr><td>185</td><td>10</td></tr>",
                            "<tr><td>182</td><td>11</td></tr>",
                            "</table>"
                        ]
                    }
                }
            ],
            "execution_count": 24
        },
        {
            "cell_type": "code",
            "source": [
                "--2.feladat\r\n",
                "SELECT S.SZALLAS_NEV, COUNT(F.FOGLALAS_PK) AS 'Foglalások száma'\r\n",
                "FROM SZALLASHELY S LEFT JOIN SZOBA Z ON S.SZALLAS_ID = Z.SZALLAS_FK\r\n",
                "                    LEFT JOIN FOGLALAS F ON Z.SZOBA_ID = F.SZOBA_FK\r\n",
                "GROUP BY S.SZALLAS_NEV\r\n",
                "ORDER BY 'Foglalások száma' DESC;\r\n",
                ""
            ],
            "metadata": {
                "azdata_cell_guid": "4857b038-cbe1-453d-8391-2526767ac4f6",
                "language": "sql"
            },
            "outputs": [
                {
                    "output_type": "display_data",
                    "data": {
                        "text/html": "Warning: Null value is eliminated by an aggregate or other SET operation."
                    },
                    "metadata": {}
                },
                {
                    "output_type": "display_data",
                    "data": {
                        "text/html": "(18 rows affected)"
                    },
                    "metadata": {}
                },
                {
                    "output_type": "display_data",
                    "data": {
                        "text/html": "Total execution time: 00:00:00.012"
                    },
                    "metadata": {}
                },
                {
                    "output_type": "execute_result",
                    "metadata": {},
                    "execution_count": 23,
                    "data": {
                        "application/vnd.dataresource+json": {
                            "schema": {
                                "fields": [
                                    {
                                        "name": "SZALLAS_NEV"
                                    },
                                    {
                                        "name": "Foglalások száma"
                                    }
                                ]
                            },
                            "data": [
                                {
                                    "SZALLAS_NEV": "Hotel Három Hattyú",
                                    "Foglalások száma": "204"
                                },
                                {
                                    "SZALLAS_NEV": "Gold Hotel",
                                    "Foglalások száma": "179"
                                },
                                {
                                    "SZALLAS_NEV": "Kentaur Hotel",
                                    "Foglalások száma": "179"
                                },
                                {
                                    "SZALLAS_NEV": "Fortuna panzió",
                                    "Foglalások száma": "126"
                                },
                                {
                                    "SZALLAS_NEV": "Lagúna Hotel",
                                    "Foglalások száma": "123"
                                },
                                {
                                    "SZALLAS_NEV": "Sába-Ház",
                                    "Foglalások száma": "70"
                                },
                                {
                                    "SZALLAS_NEV": "Fortuna Apartman",
                                    "Foglalások száma": "39"
                                },
                                {
                                    "SZALLAS_NEV": "Szieszta Apartmanház",
                                    "Foglalások száma": "34"
                                },
                                {
                                    "SZALLAS_NEV": "Jáde panzió",
                                    "Foglalások száma": "29"
                                },
                                {
                                    "SZALLAS_NEV": "Partiszél Vendégház",
                                    "Foglalások száma": "26"
                                },
                                {
                                    "SZALLAS_NEV": "Családi Ház",
                                    "Foglalások száma": "18"
                                },
                                {
                                    "SZALLAS_NEV": "Szarvas Hotel",
                                    "Foglalások száma": "0"
                                },
                                {
                                    "SZALLAS_NEV": "Kollégium",
                                    "Foglalások száma": "0"
                                },
                                {
                                    "SZALLAS_NEV": "Riviéra Panzió",
                                    "Foglalások száma": "0"
                                },
                                {
                                    "SZALLAS_NEV": "Nyárfás Vendégház",
                                    "Foglalások száma": "0"
                                },
                                {
                                    "SZALLAS_NEV": "Tímárház Panzió",
                                    "Foglalások száma": "0"
                                },
                                {
                                    "SZALLAS_NEV": "Bagoly Hotel",
                                    "Foglalások száma": "0"
                                },
                                {
                                    "SZALLAS_NEV": "Müller Vendégház",
                                    "Foglalások száma": "0"
                                }
                            ]
                        },
                        "text/html": [
                            "<table>",
                            "<tr><th>SZALLAS_NEV</th><th>Foglalások száma</th></tr>",
                            "<tr><td>Hotel Három Hattyú</td><td>204</td></tr>",
                            "<tr><td>Gold Hotel</td><td>179</td></tr>",
                            "<tr><td>Kentaur Hotel</td><td>179</td></tr>",
                            "<tr><td>Fortuna panzió</td><td>126</td></tr>",
                            "<tr><td>Lagúna Hotel</td><td>123</td></tr>",
                            "<tr><td>Sába-Ház</td><td>70</td></tr>",
                            "<tr><td>Fortuna Apartman</td><td>39</td></tr>",
                            "<tr><td>Szieszta Apartmanház</td><td>34</td></tr>",
                            "<tr><td>Jáde panzió</td><td>29</td></tr>",
                            "<tr><td>Partiszél Vendégház</td><td>26</td></tr>",
                            "<tr><td>Családi Ház</td><td>18</td></tr>",
                            "<tr><td>Szarvas Hotel</td><td>0</td></tr>",
                            "<tr><td>Kollégium</td><td>0</td></tr>",
                            "<tr><td>Riviéra Panzió</td><td>0</td></tr>",
                            "<tr><td>Nyárfás Vendégház</td><td>0</td></tr>",
                            "<tr><td>Tímárház Panzió</td><td>0</td></tr>",
                            "<tr><td>Bagoly Hotel</td><td>0</td></tr>",
                            "<tr><td>Müller Vendégház</td><td>0</td></tr>",
                            "</table>"
                        ]
                    }
                }
            ],
            "execution_count": 23
        }
    ]
}